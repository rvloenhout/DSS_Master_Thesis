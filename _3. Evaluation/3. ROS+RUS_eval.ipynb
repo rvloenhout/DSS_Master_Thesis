{
 "cells": [
  {
   "cell_type": "code",
   "execution_count": 1,
   "metadata": {},
   "outputs": [],
   "source": [
    "#! pip install plot-metric\n",
    "import pickle\n",
    "import pandas as pd\n",
    "import numpy as np\n",
    "from sklearn.metrics import roc_auc_score, balanced_accuracy_score, confusion_matrix, recall_score, precision_score, f1_score, roc_curve\n",
    "import matplotlib.pyplot as plt\n",
    "import torch\n",
    "import joblib\n",
    "\n",
    "path_csv = \"../../../Thesis_data/processed_data/\"\n",
    "path_model = \"../../../Thesis_data/Models/\""
   ]
  },
  {
   "cell_type": "code",
   "execution_count": 2,
   "metadata": {},
   "outputs": [],
   "source": [
    "#https://mikulskibartosz.name/how-to-reduce-memory-usage-in-pandas\n",
    "\n",
    "def rm(df):\n",
    "    start_mem = df.memory_usage().sum() / 1024**2\n",
    "    print('Memory usage of dataframe is {:.2f} MB'.format(start_mem))\n",
    "    for col in df.columns:\n",
    "        col_type = df[col].dtype\n",
    "        if col_type != object:\n",
    "            c_min = df[col].min()\n",
    "            c_max = df[col].max()\n",
    "            if str(col_type)[:3] == 'int':\n",
    "                if c_min > np.iinfo(np.int8).min and c_max < np.iinfo(np.int8).max:\n",
    "                    df[col] = df[col].astype(np.int8)\n",
    "                elif c_min > np.iinfo(np.int16).min and c_max < np.iinfo(np.int16).max:\n",
    "                    df[col] = df[col].astype(np.int16)\n",
    "                elif c_min > np.iinfo(np.int32).min and c_max < np.iinfo(np.int32).max:\n",
    "                    df[col] = df[col].astype(np.int32)\n",
    "                elif c_min > np.iinfo(np.int64).min and c_max < np.iinfo(np.int64).max:\n",
    "                    df[col] = df[col].astype(np.int64)\n",
    "            else:\n",
    "                if c_min > np.finfo(np.float16).min and c_max < np.finfo(np.float16).max:\n",
    "                    df[col] = df[col].astype(np.float16)\n",
    "                elif c_min > np.finfo(np.float32).min and c_max < np.finfo(np.float32).max:\n",
    "                    df[col] = df[col].astype(np.float32)\n",
    "                else:\n",
    "                    df[col] = df[col].astype(np.float64)\n",
    "\n",
    "    end_mem = df.memory_usage().sum() / 1024**2\n",
    "    print('Memory usage after optimization is: {:.2f} MB'.format(end_mem))\n",
    "    print('Decreased by {:.1f}%'.format(100 * (start_mem - end_mem) / start_mem))\n",
    "\n",
    "    return df"
   ]
  },
  {
   "cell_type": "code",
   "execution_count": 3,
   "metadata": {},
   "outputs": [],
   "source": [
    "results = pd.DataFrame(columns=[\"Model\", \"AUROC\", \"Balanced Accuracy\", \"F1\", \"Recall\", \"Precision\"])\n",
    "\n",
    "def evaluation(y_test_input, y_pred_input, model_name, y_pred_proba_input):\n",
    "\n",
    "    auroc = round(roc_auc_score(y_test_input, y_pred_proba_input),3)\n",
    "    bal_acc = round(balanced_accuracy_score(y_test_input, y_pred_input),3)\n",
    "    f1 = round(f1_score(y_test_input, y_pred_input),3)\n",
    "    recall = round(recall_score(y_test_input, y_pred_input),3)\n",
    "    precis = round(precision_score(y_test_input, y_pred_input),3)\n",
    "\n",
    "    results.loc[len(results)+1] = [type(model_name).__name__, auroc, bal_acc, f1, recall, precis]\n",
    "\n",
    "    print(\"AUROC Score: \", auroc)\n",
    "    print(\"Balanced Accuracy Score: \", bal_acc)\n",
    "    print(\"F1 Score: \", f1)\n",
    "    print(\"Recall Score: \", recall)\n",
    "    print(\"Precision Score: \", precis)\n",
    "    cm = confusion_matrix(y_test_input, y_pred_input)\n",
    "\n",
    "    fig, ax = plt.subplots(figsize=(4, 6))\n",
    "    ax.matshow(cm, cmap=plt.cm.Blues, alpha=0.3)\n",
    "    for i in range(cm.shape[0]):\n",
    "        for j in range(cm.shape[1]):\n",
    "            ax.text(x=j, y=i,s=cm[i, j], va='center', ha='center', size='xx-large')\n",
    "    \n",
    "    plt.xlabel('Predictions', fontsize=18)\n",
    "    plt.ylabel('Actuals', fontsize=18)\n",
    "    plt.title('Confusion Matrix', fontsize=18)\n",
    "    plt.show()"
   ]
  },
  {
   "cell_type": "code",
   "execution_count": 4,
   "metadata": {},
   "outputs": [],
   "source": [
    "X_test = pd.read_csv(path_csv + \"ontime_reporting_X_test.csv\")\n",
    "y_test = pd.read_csv(path_csv + \"ontime_reporting_y_test.csv\")"
   ]
  },
  {
   "cell_type": "code",
   "execution_count": 5,
   "metadata": {},
   "outputs": [
    {
     "name": "stdout",
     "output_type": "stream",
     "text": [
      "Memory usage of dataframe is 314.23 MB\n",
      "Memory usage after optimization is: 78.56 MB\n",
      "Decreased by 75.0%\n"
     ]
    }
   ],
   "source": [
    "X_test = rm(X_test)\n",
    "y_test = np.ravel(y_test)"
   ]
  },
  {
   "cell_type": "markdown",
   "metadata": {},
   "source": [
    "## Evaluate Logistic Regression tuned ROS+RUS model"
   ]
  },
  {
   "cell_type": "code",
   "execution_count": 6,
   "metadata": {},
   "outputs": [
    {
     "name": "stderr",
     "output_type": "stream",
     "text": [
      "C:\\Users\\Rvanl\\AppData\\Local\\Packages\\PythonSoftwareFoundation.Python.3.10_qbz5n2kfra8p0\\LocalCache\\local-packages\\Python310\\site-packages\\sklearn\\base.py:299: UserWarning: Trying to unpickle estimator LogisticRegression from version 1.2.2 when using version 1.2.1. This might lead to breaking code or invalid results. Use at your own risk. For more info please refer to:\n",
      "https://scikit-learn.org/stable/model_persistence.html#security-maintainability-limitations\n",
      "  warnings.warn(\n"
     ]
    }
   ],
   "source": [
    "logreg_tuned_rosrus = joblib.load(path_model + \"logreg_tuned_ROSRUS.joblib\")\n",
    "y_pred_logreg_tuned_rosrus = logreg_tuned_rosrus.predict(X_test)\n",
    "y_pred_prob_logreg_tuned_rosrus = logreg_tuned_rosrus.predict_proba(X_test)[:, 1]"
   ]
  },
  {
   "cell_type": "code",
   "execution_count": 7,
   "metadata": {},
   "outputs": [
    {
     "name": "stdout",
     "output_type": "stream",
     "text": [
      "AUROC Score:  0.74\n",
      "Balanced Accuracy Score:  0.683\n",
      "F1 Score:  0.481\n",
      "Recall Score:  0.499\n",
      "Precision Score:  0.465\n"
     ]
    },
    {
     "data": {
      "image/png": "[encoded data removed]",
      "text/plain": [
       "<Figure size 400x600 with 1 Axes>"
      ]
     },
     "metadata": {},
     "output_type": "display_data"
    }
   ],
   "source": [
    "evaluation(y_test, y_pred_logreg_tuned_rosrus, logreg_tuned_rosrus, y_pred_prob_logreg_tuned_rosrus)"
   ]
  },
  {
   "cell_type": "markdown",
   "metadata": {},
   "source": [
    "## Evaluate XGBoost tuned ROS+RUS model"
   ]
  },
  {
   "cell_type": "code",
   "execution_count": null,
   "metadata": {},
   "outputs": [],
   "source": [
    "xgb_class_tuned_rosrus = joblib.load(path_model + \"XGBoost_tuned_ROSRUS.joblib\")\n",
    "y_pred_xgb_tuned_rosrus = xgb_class_tuned_rosrus.predict(X_test)\n",
    "y_pred_prob_xgb_tuned_rosrus = xgb_class_tuned_rosrus.predict_proba(X_test)[:, 1]"
   ]
  },
  {
   "cell_type": "code",
   "execution_count": null,
   "metadata": {},
   "outputs": [],
   "source": [
    "evaluation(y_test, y_pred_xgb_tuned_rosrus, xgb_class_tuned_rosrus, y_pred_prob_xgb_tuned_rosrus)"
   ]
  },
  {
   "cell_type": "markdown",
   "metadata": {},
   "source": [
    "## Evaluate TabNet tuned ROS+RUS model"
   ]
  },
  {
   "cell_type": "code",
   "execution_count": null,
   "metadata": {},
   "outputs": [],
   "source": [
    "tabnet_tuned_rosrus = torch.load(path_model + \"TabNet_tuned_ROSRUS.pt\", map_location=torch.device('cpu'))\n",
    "tabnet_tuned_rosrus.device = \"cpu\"\n",
    "y_pred_tabnet_tuned_rosrus = tabnet_tuned_rosrus.predict(X_test.values)\n",
    "y_pred_prob_tabnet_tuned_rosrus = tabnet_tuned_rosrus.predict_proba(X_test.values)[:, 1]"
   ]
  },
  {
   "cell_type": "code",
   "execution_count": null,
   "metadata": {},
   "outputs": [],
   "source": [
    "evaluation(y_test, y_pred_tabnet_tuned_rosrus, tabnet_tuned_rosrus, y_pred_prob_tabnet_tuned_rosrus)"
   ]
  },
  {
   "cell_type": "markdown",
   "metadata": {},
   "source": [
    "## Evaluate Random Forests tuned ROS+RUS model"
   ]
  },
  {
   "cell_type": "code",
   "execution_count": 8,
   "metadata": {},
   "outputs": [
    {
     "name": "stderr",
     "output_type": "stream",
     "text": [
      "C:\\Users\\Rvanl\\AppData\\Local\\Packages\\PythonSoftwareFoundation.Python.3.10_qbz5n2kfra8p0\\LocalCache\\local-packages\\Python310\\site-packages\\sklearn\\base.py:299: UserWarning: Trying to unpickle estimator DecisionTreeClassifier from version 1.0.2 when using version 1.2.1. This might lead to breaking code or invalid results. Use at your own risk. For more info please refer to:\n",
      "https://scikit-learn.org/stable/model_persistence.html#security-maintainability-limitations\n",
      "  warnings.warn(\n",
      "C:\\Users\\Rvanl\\AppData\\Local\\Packages\\PythonSoftwareFoundation.Python.3.10_qbz5n2kfra8p0\\LocalCache\\local-packages\\Python310\\site-packages\\sklearn\\base.py:299: UserWarning: Trying to unpickle estimator RandomForestClassifier from version 1.0.2 when using version 1.2.1. This might lead to breaking code or invalid results. Use at your own risk. For more info please refer to:\n",
      "https://scikit-learn.org/stable/model_persistence.html#security-maintainability-limitations\n",
      "  warnings.warn(\n",
      "[Parallel(n_jobs=8)]: Using backend ThreadingBackend with 8 concurrent workers.\n",
      "[Parallel(n_jobs=8)]: Done  34 tasks      | elapsed:    8.5s\n",
      "[Parallel(n_jobs=8)]: Done 184 tasks      | elapsed:   32.0s\n",
      "[Parallel(n_jobs=8)]: Done 300 out of 300 | elapsed:   48.5s finished\n",
      "[Parallel(n_jobs=8)]: Using backend ThreadingBackend with 8 concurrent workers.\n",
      "[Parallel(n_jobs=8)]: Done  34 tasks      | elapsed:    5.6s\n",
      "[Parallel(n_jobs=8)]: Done 184 tasks      | elapsed:   26.3s\n",
      "[Parallel(n_jobs=8)]: Done 300 out of 300 | elapsed:   42.6s finished\n"
     ]
    }
   ],
   "source": [
    "rf_tuned_rosrus = joblib.load(path_model + \"rf_tuned_ROSRUS.joblib\")\n",
    "y_pred_rf_tuned_rosrus = rf_tuned_rosrus.predict(X_test)\n",
    "y_pred_prob_rf_tuned_rosrus = rf_tuned_rosrus.predict_proba(X_test)[:, 1]"
   ]
  },
  {
   "cell_type": "code",
   "execution_count": 9,
   "metadata": {},
   "outputs": [
    {
     "name": "stdout",
     "output_type": "stream",
     "text": [
      "AUROC Score:  0.798\n",
      "Balanced Accuracy Score:  0.726\n",
      "F1 Score:  0.543\n",
      "Recall Score:  0.584\n",
      "Precision Score:  0.506\n"
     ]
    },
    {
     "data": {
      "image/png": "[encoded data removed]",
      "text/plain": [
       "<Figure size 400x600 with 1 Axes>"
      ]
     },
     "metadata": {},
     "output_type": "display_data"
    }
   ],
   "source": [
    "evaluation(y_test, y_pred_rf_tuned_rosrus, rf_tuned_rosrus, y_pred_prob_rf_tuned_rosrus)"
   ]
  },
  {
   "cell_type": "code",
   "execution_count": 10,
   "metadata": {},
   "outputs": [
    {
     "data": {
      "text/html": [
       "<div>\n",
       "<style scoped>\n",
       "    .dataframe tbody tr th:only-of-type {\n",
       "        vertical-align: middle;\n",
       "    }\n",
       "\n",
       "    .dataframe tbody tr th {\n",
       "        vertical-align: top;\n",
       "    }\n",
       "\n",
       "    .dataframe thead th {\n",
       "        text-align: right;\n",
       "    }\n",
       "</style>\n",
       "<table border=\"1\" class=\"dataframe\">\n",
       "  <thead>\n",
       "    <tr style=\"text-align: right;\">\n",
       "      <th></th>\n",
       "      <th>Model</th>\n",
       "      <th>AUROC</th>\n",
       "      <th>Balanced Accuracy</th>\n",
       "      <th>F1</th>\n",
       "      <th>Recall</th>\n",
       "      <th>Precision</th>\n",
       "    </tr>\n",
       "  </thead>\n",
       "  <tbody>\n",
       "    <tr>\n",
       "      <th>2</th>\n",
       "      <td>RandomForestClassifier</td>\n",
       "      <td>0.798</td>\n",
       "      <td>0.726</td>\n",
       "      <td>0.543</td>\n",
       "      <td>0.584</td>\n",
       "      <td>0.506</td>\n",
       "    </tr>\n",
       "    <tr>\n",
       "      <th>1</th>\n",
       "      <td>LogisticRegression</td>\n",
       "      <td>0.740</td>\n",
       "      <td>0.683</td>\n",
       "      <td>0.481</td>\n",
       "      <td>0.499</td>\n",
       "      <td>0.465</td>\n",
       "    </tr>\n",
       "  </tbody>\n",
       "</table>\n",
       "</div>"
      ],
      "text/plain": [
       "                    Model  AUROC  Balanced Accuracy     F1  Recall  Precision\n",
       "2  RandomForestClassifier  0.798              0.726  0.543   0.584      0.506\n",
       "1      LogisticRegression  0.740              0.683  0.481   0.499      0.465"
      ]
     },
     "execution_count": 10,
     "metadata": {},
     "output_type": "execute_result"
    }
   ],
   "source": [
    "results.sort_values(by=[\"AUROC\"], ascending=False)"
   ]
  },
  {
   "cell_type": "code",
   "execution_count": null,
   "metadata": {},
   "outputs": [],
   "source": [
    "#Plot AUROC for LogReg\n",
    "fpr, tpr, _ = roc_curve(y_test, y_pred_prob_logreg_tuned_rosrus)\n",
    "auc = round(roc_auc_score(y_test, y_pred_prob_logreg_tuned_rosrus), 3)\n",
    "plt.plot(fpr, tpr, linestyle='--', label=\"Logistic Regression, AUC=\"+str(auc))\n",
    "\n",
    "#Plot AUROC for XGBoost\n",
    "fpr, tpr, _ = roc_curve(y_test, y_pred_prob_xgb_tuned_rosrus)\n",
    "auc = round(roc_auc_score(y_test, y_pred_prob_xgb_tuned_rosrus), 3)\n",
    "plt.plot(fpr, tpr, linestyle='--', label=\"Gradient Boosting, AUC=\"+str(auc))\n",
    "\n",
    "#Plot AUROC for TabNet\n",
    "fpr, tpr, _ = roc_curve(y_test, y_pred_prob_tabnet_tuned_rosrus)\n",
    "auc = round(roc_auc_score(y_test, y_pred_prob_tabnet_tuned_rosrus), 3)\n",
    "plt.plot(fpr, tpr, linestyle='--', label=\"TabNet, AUC=\"+str(auc))\n",
    "\n",
    "#Plot AUROC for Random Forests\n",
    "fpr, tpr, _ = roc_curve(y_test, y_pred_prob_rf_tuned_rosrus)\n",
    "auc = round(roc_auc_score(y_test, y_pred_prob_rf_tuned_rosrus), 3)\n",
    "plt.plot(fpr, tpr, linestyle='--', label=\"Random Forests, AUC=\"+str(auc))\n",
    "\n",
    "#Add baseline of 0.5 random guesser\n",
    "plt.plot([0, 1], [0, 1], color='gray')\n",
    "\n",
    "#Add legend\n",
    "plt.legend()\n",
    "\n",
    "#Add labels and title\n",
    "plt.xlabel('False Positive Rate')\n",
    "plt.ylabel('True Positive Rate')\n",
    "plt.title('Receiver Operating Characteristic (ROC) Curve')\n",
    "\n",
    "\n",
    "plt.figure(figsize=(14, 12)) \n",
    "plt.show()"
   ]
  }
 ],
 "metadata": {
  "kernelspec": {
   "display_name": "Python 3",
   "language": "python",
   "name": "python3"
  },
  "language_info": {
   "codemirror_mode": {
    "name": "ipython",
    "version": 3
   },
   "file_extension": ".py",
   "mimetype": "text/x-python",
   "name": "python",
   "nbconvert_exporter": "python",
   "pygments_lexer": "ipython3",
   "version": "3.10.11"
  }
 },
 "nbformat": 4,
 "nbformat_minor": 2
}
