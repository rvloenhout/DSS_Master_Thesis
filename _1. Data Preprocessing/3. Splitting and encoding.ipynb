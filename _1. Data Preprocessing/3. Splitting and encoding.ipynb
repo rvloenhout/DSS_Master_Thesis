{
 "cells": [
  {
   "cell_type": "code",
   "execution_count": 23,
   "metadata": {},
   "outputs": [],
   "source": [
    "import pandas as pd\n",
    "import numpy as np\n",
    "from sklearn.model_selection import train_test_split\n",
    "from sklearn.preprocessing import OneHotEncoder\n",
    "\n",
    "random_state = 101 \n",
    "path_import_and_export = \"../../../../Thesis_data/processed_data/\""
   ]
  },
  {
   "cell_type": "code",
   "execution_count": 25,
   "metadata": {},
   "outputs": [],
   "source": [
    "ontime_reporting = pd.read_csv(path_import_and_export + \"ontime_reporting_clean_export.csv\")"
   ]
  },
  {
   "cell_type": "code",
   "execution_count": 26,
   "metadata": {},
   "outputs": [],
   "source": [
    "X = ontime_reporting.loc[:, ontime_reporting.columns != \"DEP_DEL15\"]\n",
    "y = ontime_reporting[\"DEP_DEL15\"]\n",
    "\n",
    "X_train, X_test, y_train, y_test = train_test_split(X, y, test_size=0.2, random_state=random_state)"
   ]
  },
  {
   "cell_type": "code",
   "execution_count": 27,
   "metadata": {},
   "outputs": [],
   "source": [
    "X_train = pd.get_dummies(X_train, columns=[\"OP_UNIQUE_CARRIER\"])\n",
    "X_test = pd.get_dummies(X_test, columns=[\"OP_UNIQUE_CARRIER\"]) "
   ]
  },
  {
   "cell_type": "code",
   "execution_count": 30,
   "metadata": {},
   "outputs": [],
   "source": [
    "X_train.to_csv(path_import_and_export + \"ontime_reporting_X_train.csv\", index=False)\n",
    "y_train.to_csv(path_import_and_export + \"ontime_reporting_y_train.csv\", index=False)\n",
    "X_test.to_csv(path_import_and_export + \"ontime_reporting_X_test.csv\", index=False)\n",
    "y_test.to_csv(path_import_and_export + \"ontime_reporting_y_test.csv\", index=False)"
   ]
  }
 ],
 "metadata": {
  "kernelspec": {
   "display_name": "Python 3",
   "language": "python",
   "name": "python3"
  },
  "language_info": {
   "codemirror_mode": {
    "name": "ipython",
    "version": 3
   },
   "file_extension": ".py",
   "mimetype": "text/x-python",
   "name": "python",
   "nbconvert_exporter": "python",
   "pygments_lexer": "ipython3",
   "version": "3.10.11"
  },
  "orig_nbformat": 4
 },
 "nbformat": 4,
 "nbformat_minor": 2
}
