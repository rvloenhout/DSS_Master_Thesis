{
 "cells": [
  {
   "cell_type": "code",
   "execution_count": 1,
   "metadata": {},
   "outputs": [],
   "source": [
    "import pandas as pd\n",
    "import numpy as np\n",
    "\n",
    "path_import = \"../../../Thesis_data/raw_data/\"\n",
    "path_export = \"../../../Thesis_data/processed_data/\""
   ]
  },
  {
   "cell_type": "code",
   "execution_count": 3,
   "metadata": {},
   "outputs": [],
   "source": [
    "#Define pre-selected columns from all datasets\n",
    "cols_ontime_reporting = [\"MONTH\", #month of departure, 1 = January, ... 12 = December\n",
    "                         \"DAY_OF_MONTH\", #Day of month of departure\n",
    "                         \"DAY_OF_WEEK\", #Day of week of departure, 1 = Monday, ... 7 = Sunday\n",
    "                         \"TAIL_NUM\", #Unique tail number of aircraft\n",
    "                         \"ORIGIN_AIRPORT_ID\", #Unique airport id, matches with ORIGIN\n",
    "                         \"ORIGIN\", #International Air Transport Association's (IATA) Location Identifier code, unique 3 letter code matches to departure location\n",
    "                         \"ORIGIN_CITY_NAME\", #City name with state abbreviation used to match with us_cities 'City'\n",
    "                         \"DEST\", #International Air Transport Association's (IATA) Location Identifier code, unique 3 letter code matches to destination location\n",
    "                         \"DISTANCE_GROUP\", #Miles between ORIGIN and DESTINATION, grouped together by integers, see below this cell for a detailed description\n",
    "                         \"CRS_DEP_TIME\", #4 digit military time formatting of the planned departure time\n",
    "                         \"CRS_ARR_TIME\", #4 digit military time formatting of the planned arrival time\n",
    "                         \"DEP_DEL15\", #Binary number that classifies a delay (1) as: a aircraft departing 15 minutes later than planned\n",
    "                         \"OP_UNIQUE_CARRIER\" #Categorical variable used to identify the carrier, an additional .CSV is provided to correlate these to full names\n",
    "                         ]\n",
    "\n",
    "cols_aircraft_inventory = [\"TAIL_NUM\", #Unique tail number of aircraft\n",
    "                           \"MANUFACTURE_YEAR\", #Manufacturing year of the plane\n",
    "                           \"NUMBER_OF_SEATS\" #N of seats on a plane\n",
    "                           ]\n",
    "\n",
    "cols_airport_list = [\"ORIGIN_AIRPORT_ID\", #Unique airport id, matches with ORIGIN_AIRPORT_ID from ontime_reporting\n",
    "                     \"NAME\" #Location of weather reading, matches with NAME from airport_weather\n",
    "                     ]\n",
    "\n",
    "cols_airport_weather = [\"STATION\",\n",
    "                        \"NAME\",\n",
    "                        \"DATE\", \n",
    "                        \"HLY-TEMP-NORMAL\",\n",
    "                        \"HLY-WCHL-NORMAL\",\n",
    "                        \"HLY-CLOD-PCTCLR\", \n",
    "                        \"HLY-CLOD-PCTFEW\",\n",
    "                        \"HLY-CLOD-PCTOVC\",\n",
    "                        \"HLY-CLOD-PCTSCT\",\n",
    "                        \"HLY-CLOD-PCTBKN\",\n",
    "                        \"HLY-WIND-AVGSPD\",\n",
    "                        \"HLY-PRES-NORMAL\",\n",
    "                        \"HLY-DEWP-NORMAL\"\n",
    "                        ]\n",
    "\n",
    "cols_us_cities = [\"City\", #City name with state abbreviation used to match with ontime_reporting ORIGIN_CITY_NAME\n",
    "                  \"Median Age\", #Median age per origin city\n",
    "                  \"Total Population\", #Total population per origin city\n",
    "                  \"Average Household Size\" #Average household size per origin city\n",
    "                  ]\n",
    "\n",
    "cols_airport_geolocation = [\"iata\", #International Air Transport Association's (IATA) Location Identifier code, unique 3 letter code\n",
    "                            \"country_code\", #2 letter code that represents the country\n",
    "                            \"latitude\",\n",
    "                            \"longitude\"]\n",
    "\n",
    "#DISTANCE_GROUPS:\n",
    "#1,\"Less Than 250 Miles\"\n",
    "#2,\"250-499 Miles\"\n",
    "#3,\"500-749 Miles\"\n",
    "#4,\"750-999 Miles\"\n",
    "#5,\"1000-1249 Miles\"\n",
    "#6,\"1250-1499 Miles\"\n",
    "#7,\"1500-1749 Miles\"\n",
    "#8,\"1750-1999 Miles\"\n",
    "#9,\"2000-2249 Miles\"\n",
    "#10,\"2250-2499 Miles\"\n",
    "#11,\"2500 Miles and Greater\"\n"
   ]
  },
  {
   "cell_type": "markdown",
   "metadata": {},
   "source": [
    "## Loading on-time reporting data for each month"
   ]
  },
  {
   "cell_type": "code",
   "execution_count": 8,
   "metadata": {},
   "outputs": [
    {
     "name": "stdout",
     "output_type": "stream",
     "text": [
      "(583985, 13)\n",
      "(1117160, 13)\n",
      "(1749234, 13)\n",
      "(2361257, 13)\n",
      "(2997647, 13)\n",
      "(3634338, 13)\n",
      "(4293367, 13)\n",
      "(4951828, 13)\n",
      "(5557807, 13)\n",
      "(6193821, 13)\n",
      "(6796274, 13)\n",
      "(7422037, 13)\n"
     ]
    }
   ],
   "source": [
    "#Loading the ontime_reporting data for each month and concatanating them on an empty DataFrame\n",
    "ontime_reporting_all = pd.DataFrame() #Define empty dataframe\n",
    "\n",
    "#Going through all the CSV files (12, for each month one) related to On-Time Airplane Reporting and concatenating them\n",
    "for i in range(1,13): #13\n",
    "    if i == 1:\n",
    "        ontime_reporting_montly = pd.read_csv(path_import + \"ONTIME_REPORTING_\" + str(i) + \".csv\", usecols=cols_ontime_reporting)\n",
    "        ontime_reporting_all = ontime_reporting_montly\n",
    "        print(ontime_reporting_all.shape)\n",
    "    else:\n",
    "        ontime_reporting_montly = pd.read_csv(path_import + \"ONTIME_REPORTING_\" + str(i) + \".csv\", usecols=cols_ontime_reporting)\n",
    "        ontime_reporting_all = pd.concat([ontime_reporting_all, ontime_reporting_montly])\n",
    "        print(ontime_reporting_all.shape)"
   ]
  },
  {
   "cell_type": "code",
   "execution_count": 9,
   "metadata": {},
   "outputs": [],
   "source": [
    "#Based on CRS_DEP_TIME add the departure weather information\n",
    "#ontime_reporting_all['HOUR'] = ontime_reporting_all['CRS_DEP_TIME'] // 100\n",
    "ontime_reporting_all['HOUR'] = ontime_reporting_all['CRS_DEP_TIME'].apply(lambda x: np.floor(x / 100) + 1 if x % 100 >= 30 else np.floor(x / 100))\n",
    "ontime_reporting_all['HOUR'] = ontime_reporting_all['HOUR'].astype(int)"
   ]
  },
  {
   "cell_type": "markdown",
   "metadata": {},
   "source": [
    "## Loading aircraft inventory data and merging with on-time data"
   ]
  },
  {
   "cell_type": "code",
   "execution_count": 12,
   "metadata": {},
   "outputs": [
    {
     "name": "stdout",
     "output_type": "stream",
     "text": [
      "Shape of aircraft_inventory_data:  (7383, 3)\n",
      "Shape of ontime_reporting_all before merge:  (7422037, 14)\n",
      "Shape of ontime_reporting_all after merge:  (8478673, 16)\n"
     ]
    }
   ],
   "source": [
    "#Loading aircraft inventory list and merging it with ontime_reporting_all\n",
    "#Left joining inventory data on on-time reporting data, this would mean that some aircrafts could have missing values\n",
    "#These values could be imputed with the mean, it would introduce some noise\n",
    "aircraft_inventory_data = pd.read_csv(path_import + \"T_F41SCHEDULE_B43.csv\", encoding='latin1', usecols=cols_aircraft_inventory)\n",
    "print(\"Shape of aircraft_inventory_data: \", aircraft_inventory_data.shape)\n",
    "print(\"Shape of ontime_reporting_all before merge: \", ontime_reporting_all.shape)\n",
    "ontime_reporting_all = ontime_reporting_all.merge(aircraft_inventory_data, on='TAIL_NUM', how=\"inner\")\n",
    "print(\"Shape of ontime_reporting_all after merge: \", ontime_reporting_all.shape)"
   ]
  },
  {
   "cell_type": "markdown",
   "metadata": {},
   "source": [
    "## Loading airport and weather data then merging them"
   ]
  },
  {
   "cell_type": "code",
   "execution_count": 20,
   "metadata": {},
   "outputs": [
    {
     "name": "stdout",
     "output_type": "stream",
     "text": [
      "Shape of airport_list_data:  (97, 2)\n",
      "Shape of airport_weather_data:  (3960484, 13)\n"
     ]
    }
   ],
   "source": [
    "#Loading airport_list and airport_weather\n",
    "airport_list_data = pd.read_csv(path_import + \"airports_list.csv\", usecols=cols_airport_list)\n",
    "print(\"Shape of airport_list_data: \", airport_list_data.shape)\n",
    "airport_weather_data = pd.read_csv(path_import + \"U.S. Airports Hourly Weather data 2019 NOAA - all.csv\", usecols=cols_airport_weather)\n",
    "print(\"Shape of airport_weather_data: \", airport_weather_data.shape)"
   ]
  },
  {
   "cell_type": "code",
   "execution_count": 21,
   "metadata": {},
   "outputs": [],
   "source": [
    "#Setting the DATE datatype\n",
    "airport_weather_data['DATE'] = pd.to_datetime(airport_weather_data['DATE'], format='%m-%dT%H:%M:%S', errors='coerce')\n",
    "#airport_weather_data = airport_weather_data.dropna(subset=['DATE'])\n",
    "\n",
    "# Extracting Date, Month, Day of Month, and Hour into new columns\n",
    "airport_weather_data['MONTH'] = airport_weather_data['DATE'].dt.month\n",
    "airport_weather_data['DAY_OF_MONTH'] = airport_weather_data['DATE'].dt.day\n",
    "airport_weather_data['HOUR'] = airport_weather_data['DATE'].dt.hour"
   ]
  },
  {
   "cell_type": "code",
   "execution_count": 23,
   "metadata": {},
   "outputs": [
    {
     "name": "stdout",
     "output_type": "stream",
     "text": [
      "Shape of airport_weather_data before merge:  (3960484, 16)\n",
      "Shape of airport_weather_data after merge:  (586818, 17)\n"
     ]
    }
   ],
   "source": [
    "#Merging airport_list with airport_weather for linking ORIGIN_AIRPORT_ID to NAME\n",
    "#Inner joining weather data on airportlist\n",
    "print(\"Shape of airport_weather_data before merge: \", airport_weather_data.shape)\n",
    "airport_weather_data = airport_list_data.merge(airport_weather_data, on=\"NAME\", how=\"inner\")\n",
    "print(\"Shape of airport_weather_data after merge: \", airport_weather_data.shape)\n",
    "\n",
    "#Dropping redundant columns\n",
    "airport_weather_data = airport_weather_data.drop(columns=[\"NAME\", \"DATE\",\"STATION\"])"
   ]
  },
  {
   "cell_type": "markdown",
   "metadata": {},
   "source": [
    "## Merging Weather and on-time data"
   ]
  },
  {
   "cell_type": "code",
   "execution_count": 24,
   "metadata": {},
   "outputs": [
    {
     "name": "stdout",
     "output_type": "stream",
     "text": [
      "Shape of ontime_reporting_all before merge:  (8478673, 16)\n",
      "Shape of ontime_reporting_all after merge:  (5152112, 26)\n"
     ]
    }
   ],
   "source": [
    "#Merging airport_weather_data with ontime_reporting_all\n",
    "#Inner joining weather data on on-time reporting, inner join was chosen because it is not representative to impute missing weather data\n",
    "#This would only introduce noise as location would play a major role in te weather and imputation does not account for this\n",
    "print(\"Shape of ontime_reporting_all before merge: \", ontime_reporting_all.shape)\n",
    "ontime_reporting_all = ontime_reporting_all.merge(airport_weather_data, how='inner', on=['ORIGIN_AIRPORT_ID', 'MONTH', 'DAY_OF_MONTH', 'HOUR'])\n",
    "print(\"Shape of ontime_reporting_all after merge: \", ontime_reporting_all.shape)"
   ]
  },
  {
   "cell_type": "markdown",
   "metadata": {},
   "source": [
    "## Loading and merging US city and on-time data"
   ]
  },
  {
   "cell_type": "code",
   "execution_count": 26,
   "metadata": {},
   "outputs": [
    {
     "name": "stdout",
     "output_type": "stream",
     "text": [
      "Shape of us_cities_data:  (2891, 4)\n"
     ]
    }
   ],
   "source": [
    "#Loading US Cities data using predefined columns\n",
    "us_cities_data = pd.read_csv(path_import + \"us-cities-demographics-2015.csv\", usecols=cols_us_cities, delimiter=\";\")\n",
    "print(\"Shape of us_cities_data: \", us_cities_data.shape)"
   ]
  },
  {
   "cell_type": "code",
   "execution_count": 27,
   "metadata": {},
   "outputs": [],
   "source": [
    "#Redefining US cities column names to match City with ORIGIN_CITY_NAME from on-time reporting data\n",
    "us_cities_data.rename(columns = {\"City\":\"ORIGIN_CITY_NAME\", \"Median Age\":\"MEDIAN_AGE\", \"Total Population\":\"TOT_POP\", \"Average Household Size\":\"AVG_HOUSEHOLD_SIZE\"}, inplace = True)"
   ]
  },
  {
   "cell_type": "code",
   "execution_count": 28,
   "metadata": {},
   "outputs": [
    {
     "name": "stdout",
     "output_type": "stream",
     "text": [
      "Shape of us_cities_data:  (567, 4)\n"
     ]
    }
   ],
   "source": [
    "#Removing duplicates as the demograhics are devided into race with a seperate count but general statistics are the same but just repeating per city\n",
    "us_cities_data = us_cities_data.drop_duplicates(subset='ORIGIN_CITY_NAME')\n",
    "print(\"Shape of us_cities_data: \", us_cities_data.shape)"
   ]
  },
  {
   "cell_type": "code",
   "execution_count": 29,
   "metadata": {},
   "outputs": [],
   "source": [
    "#Splitting City name and state from on-time reporting data and dropping state abbreviation\n",
    "ontime_reporting_all[\"ORIGIN_CITY_NAME\"] = ontime_reporting_all['ORIGIN_CITY_NAME'].str.split(',').str[0]"
   ]
  },
  {
   "cell_type": "code",
   "execution_count": 30,
   "metadata": {},
   "outputs": [
    {
     "name": "stdout",
     "output_type": "stream",
     "text": [
      "Shape of ontime_reporting_all before merge:  (5152112, 26)\n",
      "Shape of ontime_reporting_all before merge:  (4476156, 29)\n"
     ]
    }
   ],
   "source": [
    "#Merging on-time reporting with US cities data via an inner join,\n",
    "#The inner join has been chosen because it is difficult to impute the missing values for each city when doing a left join and would only generate noise and a skewed image\n",
    "print(\"Shape of ontime_reporting_all before merge: \", ontime_reporting_all.shape)\n",
    "ontime_reporting_all = ontime_reporting_all.merge(us_cities_data, how='inner', on='ORIGIN_CITY_NAME')\n",
    "print(\"Shape of ontime_reporting_all before merge: \", ontime_reporting_all.shape)"
   ]
  },
  {
   "cell_type": "markdown",
   "metadata": {},
   "source": [
    "## Loading and merging ORIGIN and DESTINATION longitude/latitude with On-Time Data"
   ]
  },
  {
   "cell_type": "code",
   "execution_count": 31,
   "metadata": {},
   "outputs": [
    {
     "name": "stdout",
     "output_type": "stream",
     "text": [
      "Shape of airport_geolocation_data:  (8970, 4)\n",
      "Shape of airport_geolocation_data:  (1994, 3)\n"
     ]
    }
   ],
   "source": [
    "airport_geolocation_data = pd.read_csv(path_import + \"airports_geolocation_coordinates.csv\", usecols=cols_airport_geolocation)\n",
    "print(\"Shape of airport_geolocation_data: \", airport_geolocation_data.shape)\n",
    "#Dropping all entries exept US airports then dropping the country_code column\n",
    "airport_geolocation_data = airport_geolocation_data.loc[(airport_geolocation_data[\"country_code\"] == \"US\")]\n",
    "airport_geolocation_data = airport_geolocation_data.drop(columns=[\"country_code\"])\n",
    "print(\"Shape of airport_geolocation_data: \", airport_geolocation_data.shape)"
   ]
  },
  {
   "cell_type": "code",
   "execution_count": 32,
   "metadata": {},
   "outputs": [
    {
     "name": "stdout",
     "output_type": "stream",
     "text": [
      "Shape of ontime_reporting_all before merge:  (4476156, 29)\n",
      "Shape of ontime_reporting_all after merge:  (4421031, 30)\n"
     ]
    }
   ],
   "source": [
    "#Merging latitude and longitude on the ORIGIN column, then renaming them and dropping redundant columns\n",
    "print(\"Shape of ontime_reporting_all before merge: \", ontime_reporting_all.shape)\n",
    "ontime_reporting_all = ontime_reporting_all.merge(airport_geolocation_data, how='inner', left_on=\"ORIGIN\", right_on='iata')\n",
    "ontime_reporting_all = ontime_reporting_all.rename(columns = {\"latitude\":\"ORIGIN_LAT\",\"longitude\":\"ORIGIN_LONG\"})\n",
    "ontime_reporting_all = ontime_reporting_all.drop(columns=[\"iata\", \"ORIGIN\"])\n",
    "print(\"Shape of ontime_reporting_all after merge: \", ontime_reporting_all.shape)"
   ]
  },
  {
   "cell_type": "code",
   "execution_count": 33,
   "metadata": {},
   "outputs": [
    {
     "name": "stdout",
     "output_type": "stream",
     "text": [
      "Shape of ontime_reporting_all before merge:  (4421031, 30)\n",
      "Shape of ontime_reporting_all after merge:  (4361358, 31)\n"
     ]
    }
   ],
   "source": [
    "#Merging latitude and longitude on the DEST column, then renaming them and dropping redundant columns\n",
    "print(\"Shape of ontime_reporting_all before merge: \", ontime_reporting_all.shape)\n",
    "ontime_reporting_all = ontime_reporting_all.merge(airport_geolocation_data, how='inner', left_on=\"DEST\", right_on='iata')\n",
    "ontime_reporting_all = ontime_reporting_all.rename(columns = {\"latitude\":\"DEST_LAT\",\"longitude\":\"DEST_LONG\"})\n",
    "ontime_reporting_all = ontime_reporting_all.drop(columns=[\"iata\", \"DEST\"])\n",
    "print(\"Shape of ontime_reporting_all after merge: \", ontime_reporting_all.shape)"
   ]
  },
  {
   "cell_type": "markdown",
   "metadata": {},
   "source": [
    "## Exporting the dataset"
   ]
  },
  {
   "cell_type": "code",
   "execution_count": 34,
   "metadata": {},
   "outputs": [],
   "source": [
    "#Exporting the whole dataset\n",
    "ontime_reporting_all.to_csv(path_export + \"ontime_reporting_export_hourly_weather.csv\", index=False)"
   ]
  }
 ],
 "metadata": {
  "kernelspec": {
   "display_name": "Python 3",
   "language": "python",
   "name": "python3"
  },
  "language_info": {
   "codemirror_mode": {
    "name": "ipython",
    "version": 3
   },
   "file_extension": ".py",
   "mimetype": "text/x-python",
   "name": "python",
   "nbconvert_exporter": "python",
   "pygments_lexer": "ipython3",
   "version": "3.10.11"
  },
  "orig_nbformat": 4
 },
 "nbformat": 4,
 "nbformat_minor": 2
}
