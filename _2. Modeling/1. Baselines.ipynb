{
 "cells": [
  {
   "cell_type": "code",
   "execution_count": 8,
   "metadata": {},
   "outputs": [],
   "source": [
    "import pandas as pd\n",
    "import numpy as np\n",
    "import pickle\n",
    "import joblib\n",
    "import torch\n",
    "from sklearn.linear_model import LogisticRegression\n",
    "from pytorch_tabnet.tab_model import TabNetClassifier\n",
    "import xgboost as xgb\n",
    "from sklearn.ensemble import RandomForestClassifier\n",
    "from sklearn.naive_bayes import GaussianNB, MultinomialNB\n",
    "from functions import rm\n",
    "\n",
    "random_state = 101\n",
    "\n",
    "path_csv = \"../../../Thesis_data/processed_data/\"\n",
    "path_model = \"../../../Thesis_data/Models/\""
   ]
  },
  {
   "cell_type": "code",
   "execution_count": 9,
   "metadata": {},
   "outputs": [
    {
     "name": "stdout",
     "output_type": "stream",
     "text": [
      "Memory usage of dataframe is 1256.91 MB\n",
      "Memory usage after optimization is: 229.30 MB\n",
      "Decreased by 81.8%\n"
     ]
    }
   ],
   "source": [
    "X_train = rm(pd.read_csv(path_csv + \"ontime_reporting_X_train_unscaled.csv\"))\n",
    "y_train = np.ravel(pd.read_csv(path_csv + \"ontime_reporting_y_train.csv\"))"
   ]
  },
  {
   "cell_type": "markdown",
   "metadata": {},
   "source": [
    "## Logistic Regression Baseline"
   ]
  },
  {
   "cell_type": "code",
   "execution_count": 5,
   "metadata": {},
   "outputs": [],
   "source": [
    "logreg_baseline = LogisticRegression(random_state=random_state, n_jobs=-1)\n",
    "logreg_baseline.fit(X_train, y_train)\n",
    "pickle.dump(logreg_baseline, open(path_model + \"logreg_baseline.pkl\", 'wb'))"
   ]
  },
  {
   "cell_type": "markdown",
   "metadata": {},
   "source": [
    "## XGBoost Baseline"
   ]
  },
  {
   "cell_type": "code",
   "execution_count": 6,
   "metadata": {},
   "outputs": [],
   "source": [
    "xgb_class_baseline = xgb.XGBClassifier(random_state=random_state, n_jobs=-1) #device_name=\"cuda\", pip install xgboost==1.7.5 --user\n",
    "xgb_class_baseline.fit(X_train, y_train)\n",
    "pickle.dump(xgb_class_baseline, open(path_model + \"XGBoost_baseline.pkl\", 'wb'))"
   ]
  },
  {
   "cell_type": "markdown",
   "metadata": {},
   "source": [
    "## TabNet Baseline"
   ]
  },
  {
   "cell_type": "code",
   "execution_count": null,
   "metadata": {},
   "outputs": [],
   "source": [
    "tabnet_class_baseline = TabNetClassifier(seed=random_state, verbose=2, device_name=\"cuda\")\n",
    "tabnet_class_baseline.fit(X_train.values, y_train, max_epochs=50, batch_size=44000)\n",
    "\n",
    "path_model = \"/content/drive/MyDrive/Thesis Data/Models/\"\n",
    "torch.save(tabnet_class_baseline, path_model + 'TabNet_baseline.pt')"
   ]
  },
  {
   "cell_type": "markdown",
   "metadata": {},
   "source": [
    "## Random Forests Baseline"
   ]
  },
  {
   "cell_type": "code",
   "execution_count": null,
   "metadata": {},
   "outputs": [],
   "source": [
    "rf_baseline = RandomForestClassifier(random_state=random_state, n_jobs=-1)\n",
    "rf_baseline.fit(X_train, y_train)\n",
    "joblib.dump(rf_baseline, path_model + 'rf_baseline.joblib') "
   ]
  },
  {
   "cell_type": "markdown",
   "metadata": {},
   "source": [
    "## Naive Bayes"
   ]
  },
  {
   "cell_type": "code",
   "execution_count": 10,
   "metadata": {},
   "outputs": [
    {
     "data": {
      "text/plain": [
       "['../../../Thesis_data/Models/nb_baseline.joblib']"
      ]
     },
     "execution_count": 10,
     "metadata": {},
     "output_type": "execute_result"
    }
   ],
   "source": [
    "gnb_baseline = GaussianNB()\n",
    "gnb_baseline.fit(X_train, y_train)\n",
    "joblib.dump(gnb_baseline, path_model + 'nb_baseline.joblib') "
   ]
  }
 ],
 "metadata": {
  "kernelspec": {
   "display_name": "Python 3",
   "language": "python",
   "name": "python3"
  },
  "language_info": {
   "codemirror_mode": {
    "name": "ipython",
    "version": 3
   },
   "file_extension": ".py",
   "mimetype": "text/x-python",
   "name": "python",
   "nbconvert_exporter": "python",
   "pygments_lexer": "ipython3",
   "version": "3.10.11"
  },
  "orig_nbformat": 4
 },
 "nbformat": 4,
 "nbformat_minor": 2
}
