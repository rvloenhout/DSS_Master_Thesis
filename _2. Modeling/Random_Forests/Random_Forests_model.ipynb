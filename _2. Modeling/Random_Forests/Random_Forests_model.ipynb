{
 "cells": [
  {
   "cell_type": "code",
   "execution_count": 1,
   "metadata": {},
   "outputs": [],
   "source": [
    "from sklearn.model_selection import cross_validate, train_test_split, StratifiedKFold\n",
    "from sklearn.metrics import roc_auc_score\n",
    "from sklearn.ensemble import RandomForestClassifier\n",
    "import pandas as pd\n",
    "import numpy as np\n",
    "import optuna\n",
    "from optuna import Trial, visualization\n",
    "from optuna.samplers import TPESampler\n",
    "\n",
    "random_state = 101\n",
    "path_import_and_export = \"../../../../Thesis_data/processed_data/\""
   ]
  },
  {
   "cell_type": "code",
   "execution_count": null,
   "metadata": {},
   "outputs": [],
   "source": [
    "def objective_rf(trial):\n",
    "    params = {\n",
    "        \"criterion\": trial.suggest_categorical(\"criterion\", [\"entropy\", \"gini\"]),\n",
    "        \"max_depth\": trial.suggest_int(\"max_depth\", 10, 200, step=10),\n",
    "        \"max_features\": trial.suggest_categorical(\"max_features\", ['auto', 'sqrt','log2', None]),\n",
    "        \"min_samples_leaf\": trial.suggest_float(\"min_samples_leaf\", 0, 0.5, step=0.1),\n",
    "        \"min_samples_split\": trial.suggest_float(\"min_samples_split\", 0, 1),\n",
    "        \"n_estimators\": trial.suggest_int(\"n_estimators\", 10, 810, step=50),\n",
    "    }\n",
    "\n",
    "    model_rfClass = RandomForestClassifier(**params, random_state=101, n_jobs=-1) #enable_categorical=True\n",
    "\n",
    "    skfold = StratifiedKFold(n_splits=3, random_state=101, shuffle=True)\n",
    "    auc_scores = []\n",
    "\n",
    "    for train_index, val_index in skfold.split(X_train, y_train):\n",
    "        X_train_fold, y_train_fold = X_train.iloc[train_index], y_train.iloc[train_index]\n",
    "        X_val_fold, y_val_fold = X_train.iloc[val_index], y_train.iloc[val_index]\n",
    "\n",
    "        model_rfClass.fit(X_train_fold, y_train_fold)\n",
    "        y_pred = model_rfClass.predict(X_val_fold)\n",
    "        auc_scores.append(roc_auc_score(y_val_fold, y_pred))\n",
    "\n",
    "    return np.mean(auc_scores)"
   ]
  },
  {
   "cell_type": "code",
   "execution_count": null,
   "metadata": {},
   "outputs": [],
   "source": [
    "study = optuna.create_study(direction='maximize')\n",
    "study.optimize(objective_rf, n_trials=1)"
   ]
  },
  {
   "cell_type": "code",
   "execution_count": null,
   "metadata": {},
   "outputs": [],
   "source": [
    "best_params = study.best_params\n",
    "final_rf_model = RandomForestClassifier(**best_params, random_state=101, n_jobs=-1, verbose=2)\n",
    "final_rf_model.fit(X_train, y_train)"
   ]
  },
  {
   "cell_type": "code",
   "execution_count": null,
   "metadata": {},
   "outputs": [],
   "source": [
    "y_pred = final_rf_model.predict(X_test)\n",
    "test_auroc = roc_auc_score(y_test, y_pred)"
   ]
  },
  {
   "cell_type": "code",
   "execution_count": null,
   "metadata": {},
   "outputs": [],
   "source": [
    "print(test_auroc)"
   ]
  }
 ],
 "metadata": {
  "kernelspec": {
   "display_name": "Python 3",
   "language": "python",
   "name": "python3"
  },
  "language_info": {
   "codemirror_mode": {
    "name": "ipython",
    "version": 3
   },
   "file_extension": ".py",
   "mimetype": "text/x-python",
   "name": "python",
   "nbconvert_exporter": "python",
   "pygments_lexer": "ipython3",
   "version": "3.10.11"
  },
  "orig_nbformat": 4
 },
 "nbformat": 4,
 "nbformat_minor": 2
}
