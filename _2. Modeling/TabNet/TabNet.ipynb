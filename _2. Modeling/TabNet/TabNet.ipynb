{
 "cells": [
  {
   "cell_type": "code",
   "execution_count": null,
   "metadata": {},
   "outputs": [],
   "source": [
    "#!pip install pytorch-tabnet"
   ]
  },
  {
   "cell_type": "code",
   "execution_count": null,
   "metadata": {},
   "outputs": [],
   "source": [
    "import pandas as pd\n",
    "import numpy as np\n",
    "from pytorch_tabnet.tab_model import TabNetClassifier\n",
    "from sklearn.model_selection import cross_validate, train_test_split, StratifiedKFold\n",
    "from sklearn.metrics import roc_auc_score\n",
    "import optuna\n",
    "from optuna import Trial, visualization\n",
    "from optuna.samplers import TPESampler"
   ]
  },
  {
   "cell_type": "code",
   "execution_count": null,
   "metadata": {},
   "outputs": [],
   "source": [
    "dtypes = {\n",
    "    \"MONTH\":\"int8\",\n",
    "    \"DAY_OF_MONTH\":\"int8\",\n",
    "    \"DAY_OF_WEEK\":\"int8\",\n",
    "    \"OP_UNIQUE_CARRIER\":\"object\",\n",
    "    \"CRS_DEP_TIME\":\"int16\",\n",
    "    \"CRS_ARR_TIME\":\"int16\",\n",
    "    \"DEP_DEL15\":\"bool\",\n",
    "    \"DISTANCE_GROUP\":\"category\",\n",
    "    \"NUMBER_OF_SEATS\":\"int16\",\n",
    "    \"AWND\":\"float64\",\n",
    "    \"PRCP\":\"float64\",\n",
    "    \"SNOW\":\"float64\",\n",
    "    \"SNWD\":\"float64\",\n",
    "    \"TMAX\":\"float64\",\n",
    "    \"MEDIAN_AGE\":\"float64\",\n",
    "    \"TOT_POP\":\"int64\",\n",
    "    \"AVG_HOUSEHOLD_SIZE\":\"float64\", \n",
    "    \"ORIGIN_LAT \":\"float64\",\n",
    "    \"ORIGIN_LONG\":\"float64\",\n",
    "    \"DEST_LAT\":\"float64\",\n",
    "    \"DEST_LONG\":\"float64\",\n",
    "    \"PREV_FLIGHT_DELAY\":\"bool\",\n",
    "    \"PLANE_AGE\":\"int16\"\n",
    "    }"
   ]
  },
  {
   "cell_type": "code",
   "execution_count": null,
   "metadata": {},
   "outputs": [],
   "source": [
    "ontime_reporting = pd.read_csv('/content/drive/MyDrive/Thesis Data/processed_data/ontime_reporting_clean_export.csv', dtype=dtypes)"
   ]
  },
  {
   "cell_type": "code",
   "execution_count": null,
   "metadata": {},
   "outputs": [],
   "source": [
    "ontime_reporting = ontime_reporting.drop(columns=[\"OP_UNIQUE_CARRIER\"])\n",
    "X = ontime_reporting.loc[:, ontime_reporting.columns != \"DEP_DEL15\"]\n",
    "y = ontime_reporting[\"DEP_DEL15\"]\n",
    "\n",
    "X_train, X_test, y_train, y_test = train_test_split(X, y, test_size=0.2, random_state=random_state)"
   ]
  },
  {
   "cell_type": "code",
   "execution_count": null,
   "metadata": {},
   "outputs": [],
   "source": [
    "def objective_tabnet(trial):\n",
    "    params = {\n",
    "        \"n_d\": trial.suggest_int(\"n_d\", 8, 64, step=8),\n",
    "        \"n_a\": trial.suggest_int(\"n_a\", 8, 64, step=8),\n",
    "        \"n_steps\": trial.suggest_int(\"n_steps\", 3, 10),\n",
    "        \"gamma\": trial.suggest_float(\"subsample\", 1.0, 2.0, step=0.01),\n",
    "        \"n_shared\": trial.suggest_int(\"colsample_bytree\", 1, 5)\n",
    "    }\n",
    "\n",
    "    model_tabnetClass = TabNetClassifier(**params, seed=random_state, n_jobs=-1, verbose=1)\n",
    "    \n",
    "    skfold = StratifiedKFold(n_splits=3, random_state=random_state, shuffle=True)\n",
    "    auc_scores = []\n",
    "\n",
    "    for train_index, val_index in skfold.split(X_train, y_train):\n",
    "        X_train_fold, y_train_fold = X_train.iloc[train_index], y_train.iloc[train_index]\n",
    "        X_val_fold, y_val_fold = X_train.iloc[val_index], y_train.iloc[val_index]\n",
    "\n",
    "        model_tabnetClass.fit(X_train_fold, y_train_fold,\n",
    "                              eval_set = [(X_val_fold, y_val_fold)]\n",
    "                              patience=5,\n",
    "                              max_epochs=10,\n",
    "                              eval_metric=[\"auc\"])\n",
    "        \n",
    "        y_pred = model_tabnetClass.predict(X_val_fold)#[:, 1]\n",
    "        auc_scores.append(roc_auc_score(y_val_fold, y_pred))\n",
    "\n",
    "    return np.mean(auc_scores)"
   ]
  },
  {
   "cell_type": "code",
   "execution_count": null,
   "metadata": {},
   "outputs": [],
   "source": [
    "study = optuna.create_study(direction=\"minimize\", study_name='TabNet')\n",
    "study.optimize(objective_tabnet, n_trials=1) #5 hours -> timeout=6*60"
   ]
  },
  {
   "cell_type": "code",
   "execution_count": null,
   "metadata": {},
   "outputs": [],
   "source": [
    "TabNet_params = study.best_params"
   ]
  }
 ],
 "metadata": {
  "language_info": {
   "name": "python"
  },
  "orig_nbformat": 4
 },
 "nbformat": 4,
 "nbformat_minor": 2
}
