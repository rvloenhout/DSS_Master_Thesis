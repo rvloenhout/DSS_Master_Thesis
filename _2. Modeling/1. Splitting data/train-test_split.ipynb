{
 "cells": [
  {
   "cell_type": "code",
   "execution_count": null,
   "metadata": {},
   "outputs": [],
   "source": [
    "import pandas as pd\n",
    "import numpy as np\n",
    "from sklearn.model_selection import train_test_split\n",
    "\n",
    "random_state = 101 \n",
    "path_import_and_export = \"../../../Thesis_data/processed_data/\""
   ]
  },
  {
   "cell_type": "code",
   "execution_count": null,
   "metadata": {},
   "outputs": [],
   "source": [
    "dtypes = {\n",
    "    \"MONTH\":\"int8\",\n",
    "    \"DAY_OF_MONTH\":\"int8\",\n",
    "    \"DAY_OF_WEEK\":\"int8\",\n",
    "    \"OP_UNIQUE_CARRIER\":\"object\",\n",
    "    \"CRS_DEP_TIME\":\"int16\",\n",
    "    \"CRS_ARR_TIME\":\"int16\",\n",
    "    \"DEP_DEL15\":\"bool\",\n",
    "    \"DISTANCE_GROUP\":\"int16\",\n",
    "    \"NUMBER_OF_SEATS\":\"int16\",\n",
    "    \"AWND\":\"float64\",\n",
    "    \"PRCP\":\"float64\",\n",
    "    \"SNOW\":\"float64\",\n",
    "    \"SNWD\":\"float64\",\n",
    "    \"TMAX\":\"float64\",\n",
    "    \"MEDIAN_AGE\":\"float64\",\n",
    "    \"TOT_POP\":\"int64\",\n",
    "    \"AVG_HOUSEHOLD_SIZE\":\"float64\", \n",
    "    \"ORIGIN_LAT \":\"float64\",\n",
    "    \"ORIGIN_LONG\":\"float64\",\n",
    "    \"DEST_LAT\":\"float64\",\n",
    "    \"DEST_LONG\":\"float64\",\n",
    "    \"PREV_FLIGHT_DELAY\":\"bool\",\n",
    "    \"PLANE_AGE\":\"int16\"\n",
    "    }"
   ]
  },
  {
   "cell_type": "code",
   "execution_count": null,
   "metadata": {},
   "outputs": [],
   "source": [
    "ontime_reporting = pd.read_csv(path_import_and_export + \"ontime_reporting_export.csv\", dtype=dtypes)"
   ]
  },
  {
   "cell_type": "code",
   "execution_count": null,
   "metadata": {},
   "outputs": [],
   "source": [
    "X = ontime_reporting.loc[:, ontime_reporting.columns != \"DEP_DEL15\"]\n",
    "y = ontime_reporting[\"DEP_DEL15\"]\n",
    "\n",
    "X_train, X_test, y_train, y_test = train_test_split(X, y, test_size=0.2, random_state=random_state)"
   ]
  },
  {
   "cell_type": "code",
   "execution_count": null,
   "metadata": {},
   "outputs": [],
   "source": []
  }
 ],
 "metadata": {
  "language_info": {
   "name": "python"
  },
  "orig_nbformat": 4
 },
 "nbformat": 4,
 "nbformat_minor": 2
}
